{
  "cells": [
    {
      "cell_type": "code",
      "execution_count": null,
      "metadata": {
        "colab": {
          "base_uri": "https://localhost:8080/",
          "height": 71
        },
        "id": "eQxpMDWHvryn",
        "outputId": "e6ad199f-919f-4d46-dfbc-18a00bbd8115"
      },
      "outputs": [
        {
          "output_type": "display_data",
          "data": {
            "text/plain": [
              "<IPython.core.display.HTML object>"
            ],
            "text/html": [
              "\n",
              "     <input type=\"file\" id=\"files-23ec8926-8955-4df6-8cf0-0ee36e2b99ee\" name=\"files[]\" multiple disabled\n",
              "        style=\"border:none\" />\n",
              "     <output id=\"result-23ec8926-8955-4df6-8cf0-0ee36e2b99ee\">\n",
              "      Upload widget is only available when the cell has been executed in the\n",
              "      current browser session. Please rerun this cell to enable.\n",
              "      </output>\n",
              "      <script>// Copyright 2017 Google LLC\n",
              "//\n",
              "// Licensed under the Apache License, Version 2.0 (the \"License\");\n",
              "// you may not use this file except in compliance with the License.\n",
              "// You may obtain a copy of the License at\n",
              "//\n",
              "//      http://www.apache.org/licenses/LICENSE-2.0\n",
              "//\n",
              "// Unless required by applicable law or agreed to in writing, software\n",
              "// distributed under the License is distributed on an \"AS IS\" BASIS,\n",
              "// WITHOUT WARRANTIES OR CONDITIONS OF ANY KIND, either express or implied.\n",
              "// See the License for the specific language governing permissions and\n",
              "// limitations under the License.\n",
              "\n",
              "/**\n",
              " * @fileoverview Helpers for google.colab Python module.\n",
              " */\n",
              "(function(scope) {\n",
              "function span(text, styleAttributes = {}) {\n",
              "  const element = document.createElement('span');\n",
              "  element.textContent = text;\n",
              "  for (const key of Object.keys(styleAttributes)) {\n",
              "    element.style[key] = styleAttributes[key];\n",
              "  }\n",
              "  return element;\n",
              "}\n",
              "\n",
              "// Max number of bytes which will be uploaded at a time.\n",
              "const MAX_PAYLOAD_SIZE = 100 * 1024;\n",
              "\n",
              "function _uploadFiles(inputId, outputId) {\n",
              "  const steps = uploadFilesStep(inputId, outputId);\n",
              "  const outputElement = document.getElementById(outputId);\n",
              "  // Cache steps on the outputElement to make it available for the next call\n",
              "  // to uploadFilesContinue from Python.\n",
              "  outputElement.steps = steps;\n",
              "\n",
              "  return _uploadFilesContinue(outputId);\n",
              "}\n",
              "\n",
              "// This is roughly an async generator (not supported in the browser yet),\n",
              "// where there are multiple asynchronous steps and the Python side is going\n",
              "// to poll for completion of each step.\n",
              "// This uses a Promise to block the python side on completion of each step,\n",
              "// then passes the result of the previous step as the input to the next step.\n",
              "function _uploadFilesContinue(outputId) {\n",
              "  const outputElement = document.getElementById(outputId);\n",
              "  const steps = outputElement.steps;\n",
              "\n",
              "  const next = steps.next(outputElement.lastPromiseValue);\n",
              "  return Promise.resolve(next.value.promise).then((value) => {\n",
              "    // Cache the last promise value to make it available to the next\n",
              "    // step of the generator.\n",
              "    outputElement.lastPromiseValue = value;\n",
              "    return next.value.response;\n",
              "  });\n",
              "}\n",
              "\n",
              "/**\n",
              " * Generator function which is called between each async step of the upload\n",
              " * process.\n",
              " * @param {string} inputId Element ID of the input file picker element.\n",
              " * @param {string} outputId Element ID of the output display.\n",
              " * @return {!Iterable<!Object>} Iterable of next steps.\n",
              " */\n",
              "function* uploadFilesStep(inputId, outputId) {\n",
              "  const inputElement = document.getElementById(inputId);\n",
              "  inputElement.disabled = false;\n",
              "\n",
              "  const outputElement = document.getElementById(outputId);\n",
              "  outputElement.innerHTML = '';\n",
              "\n",
              "  const pickedPromise = new Promise((resolve) => {\n",
              "    inputElement.addEventListener('change', (e) => {\n",
              "      resolve(e.target.files);\n",
              "    });\n",
              "  });\n",
              "\n",
              "  const cancel = document.createElement('button');\n",
              "  inputElement.parentElement.appendChild(cancel);\n",
              "  cancel.textContent = 'Cancel upload';\n",
              "  const cancelPromise = new Promise((resolve) => {\n",
              "    cancel.onclick = () => {\n",
              "      resolve(null);\n",
              "    };\n",
              "  });\n",
              "\n",
              "  // Wait for the user to pick the files.\n",
              "  const files = yield {\n",
              "    promise: Promise.race([pickedPromise, cancelPromise]),\n",
              "    response: {\n",
              "      action: 'starting',\n",
              "    }\n",
              "  };\n",
              "\n",
              "  cancel.remove();\n",
              "\n",
              "  // Disable the input element since further picks are not allowed.\n",
              "  inputElement.disabled = true;\n",
              "\n",
              "  if (!files) {\n",
              "    return {\n",
              "      response: {\n",
              "        action: 'complete',\n",
              "      }\n",
              "    };\n",
              "  }\n",
              "\n",
              "  for (const file of files) {\n",
              "    const li = document.createElement('li');\n",
              "    li.append(span(file.name, {fontWeight: 'bold'}));\n",
              "    li.append(span(\n",
              "        `(${file.type || 'n/a'}) - ${file.size} bytes, ` +\n",
              "        `last modified: ${\n",
              "            file.lastModifiedDate ? file.lastModifiedDate.toLocaleDateString() :\n",
              "                                    'n/a'} - `));\n",
              "    const percent = span('0% done');\n",
              "    li.appendChild(percent);\n",
              "\n",
              "    outputElement.appendChild(li);\n",
              "\n",
              "    const fileDataPromise = new Promise((resolve) => {\n",
              "      const reader = new FileReader();\n",
              "      reader.onload = (e) => {\n",
              "        resolve(e.target.result);\n",
              "      };\n",
              "      reader.readAsArrayBuffer(file);\n",
              "    });\n",
              "    // Wait for the data to be ready.\n",
              "    let fileData = yield {\n",
              "      promise: fileDataPromise,\n",
              "      response: {\n",
              "        action: 'continue',\n",
              "      }\n",
              "    };\n",
              "\n",
              "    // Use a chunked sending to avoid message size limits. See b/62115660.\n",
              "    let position = 0;\n",
              "    do {\n",
              "      const length = Math.min(fileData.byteLength - position, MAX_PAYLOAD_SIZE);\n",
              "      const chunk = new Uint8Array(fileData, position, length);\n",
              "      position += length;\n",
              "\n",
              "      const base64 = btoa(String.fromCharCode.apply(null, chunk));\n",
              "      yield {\n",
              "        response: {\n",
              "          action: 'append',\n",
              "          file: file.name,\n",
              "          data: base64,\n",
              "        },\n",
              "      };\n",
              "\n",
              "      let percentDone = fileData.byteLength === 0 ?\n",
              "          100 :\n",
              "          Math.round((position / fileData.byteLength) * 100);\n",
              "      percent.textContent = `${percentDone}% done`;\n",
              "\n",
              "    } while (position < fileData.byteLength);\n",
              "  }\n",
              "\n",
              "  // All done.\n",
              "  yield {\n",
              "    response: {\n",
              "      action: 'complete',\n",
              "    }\n",
              "  };\n",
              "}\n",
              "\n",
              "scope.google = scope.google || {};\n",
              "scope.google.colab = scope.google.colab || {};\n",
              "scope.google.colab._files = {\n",
              "  _uploadFiles,\n",
              "  _uploadFilesContinue,\n",
              "};\n",
              "})(self);\n",
              "</script> "
            ]
          },
          "metadata": {}
        },
        {
          "output_type": "stream",
          "name": "stdout",
          "text": [
            "Saving kaggle.json to kaggle.json\n"
          ]
        }
      ],
      "source": [
        "from google.colab import files\n",
        "files.upload()  # faça upload do kaggle.json aqui\n",
        "\n",
        "!mkdir -p ~/.kaggle\n",
        "!mv kaggle.json ~/.kaggle/\n",
        "!chmod 600 ~/.kaggle/kaggle.json\n"
      ]
    },
    {
      "cell_type": "code",
      "execution_count": null,
      "metadata": {
        "colab": {
          "base_uri": "https://localhost:8080/"
        },
        "id": "HEwpUjQlyxzl",
        "outputId": "d96de47e-3da3-4f88-a08f-e3c37f71cbeb"
      },
      "outputs": [
        {
          "output_type": "stream",
          "name": "stdout",
          "text": [
            "Dataset URL: https://www.kaggle.com/datasets/leaderandpiller/brain-tumor-segmentation\n",
            "License(s): unknown\n",
            "Downloading brain-tumor-segmentation.zip to /content\n",
            " 96% 537M/560M [00:01<00:00, 323MB/s]\n",
            "100% 560M/560M [00:01<00:00, 417MB/s]\n"
          ]
        }
      ],
      "source": [
        "!kaggle datasets download -d leaderandpiller/brain-tumor-segmentation\n"
      ]
    },
    {
      "cell_type": "code",
      "execution_count": null,
      "metadata": {
        "id": "VjQBltyQyxx-"
      },
      "outputs": [],
      "source": [
        "import zipfile\n",
        "\n",
        "with zipfile.ZipFile(\"brain-tumor-segmentation.zip\", 'r') as zip_ref:\n",
        "    zip_ref.extractall(\"brain_tumor_data\")\n"
      ]
    },
    {
      "cell_type": "code",
      "execution_count": null,
      "metadata": {
        "colab": {
          "base_uri": "https://localhost:8080/"
        },
        "id": "MWF37lkvyxwa",
        "outputId": "a4bf8b88-2249-4db1-e315-1f0b5e120653"
      },
      "outputs": [
        {
          "output_type": "stream",
          "name": "stdout",
          "text": [
            "brain_tumor_data -> 0 arquivos, subpastas: ['YES-20200502T082251Z-001', 'NO-20200502T075011Z-001']\n",
            "brain_tumor_data/YES-20200502T082251Z-001 -> 0 arquivos, subpastas: ['YES']\n",
            "brain_tumor_data/YES-20200502T082251Z-001/YES -> 5504 arquivos, subpastas: []\n",
            "brain_tumor_data/NO-20200502T075011Z-001 -> 0 arquivos, subpastas: ['NO']\n",
            "brain_tumor_data/NO-20200502T075011Z-001/NO -> 6159 arquivos, subpastas: []\n"
          ]
        }
      ],
      "source": [
        "import os\n",
        "\n",
        "for root, dirs, files in os.walk(\"brain_tumor_data\"):\n",
        "    print(f\"{root} -> {len(files)} arquivos, subpastas: {dirs}\")\n"
      ]
    },
    {
      "cell_type": "code",
      "execution_count": null,
      "metadata": {
        "id": "t69RDFkcyxur"
      },
      "outputs": [],
      "source": [
        "import os\n",
        "import shutil\n",
        "\n",
        "base_path = \"brain_tumor_data\"\n",
        "combined_path = os.path.join(base_path, \"combined\")\n",
        "\n",
        "os.makedirs(combined_path, exist_ok=True)\n",
        "os.makedirs(os.path.join(combined_path, \"YES\"), exist_ok=True)\n",
        "os.makedirs(os.path.join(combined_path, \"NO\"), exist_ok=True)\n",
        "\n",
        "# mover imagens YES\n",
        "src_yes = os.path.join(base_path, \"YES-20200502T082251Z-001\", \"YES\")\n",
        "for f in os.listdir(src_yes):\n",
        "    shutil.copy(os.path.join(src_yes, f), os.path.join(combined_path, \"YES\", f))\n",
        "\n",
        "# mover imagens NO\n",
        "src_no = os.path.join(base_path, \"NO-20200502T075011Z-001\", \"NO\")\n",
        "for f in os.listdir(src_no):\n",
        "    shutil.copy(os.path.join(src_no, f), os.path.join(combined_path, \"NO\", f))\n"
      ]
    },
    {
      "cell_type": "code",
      "source": [
        "import torch\n",
        "import torch.nn as nn\n",
        "import torch.optim as optim\n",
        "from torchvision import datasets, transforms\n",
        "from torch.utils.data import DataLoader, random_split\n",
        "from tqdm import tqdm\n",
        "\n",
        "\"\"\"\n",
        "A Compose serve para aplicar a pipeline, fazendo com que possamos aplicar\n",
        "vários processamentos de uma vez só nas imagens ou conjunto de imagens\n",
        "\"\"\"\n",
        "transformacao = transforms.Compose([\n",
        "    transforms.Grayscale(num_output_channels=1),\n",
        "    transforms.Resize((128, 128)),\n",
        "    transforms.ToTensor(),\n",
        "    transforms.Normalize(mean=[0.5], std=[0.5])\n",
        "])\n",
        "\n",
        "dataset = datasets.ImageFolder(\n",
        "    root='brain_tumor_data/combined',\n",
        "    transform=transformacao\n",
        ")\n",
        "\n",
        "train_size = int(0.8 * len(dataset))\n",
        "val_size = len(dataset) - train_size\n",
        "train_dataset, val_dataset = random_split(dataset, [train_size, val_size])\n",
        "\n",
        "train_loader = DataLoader(train_dataset, batch_size=32, shuffle=True)\n",
        "val_loader = DataLoader(val_dataset, batch_size=32, shuffle=False)\n",
        "\n",
        "class Classificador(nn.Module):\n",
        "    def __init__(self):\n",
        "        super().__init__()\n",
        "        self.conv1 = nn.Conv2d(in_channels=1, out_channels=32, kernel_size=(3, 3))\n",
        "        self.conv2 = nn.Conv2d(32, 32, (3, 3))\n",
        "        self.activation = nn.ReLU()\n",
        "        self.bnorm = nn.BatchNorm2d(num_features=32)\n",
        "        self.pool = nn.MaxPool2d(kernel_size=(2, 2))\n",
        "        self.flatten = nn.Flatten()\n",
        "        self.linear1 = nn.Linear(in_features=32 * 30 * 30, out_features=128)\n",
        "        self.linear2 = nn.Linear(128, 128)\n",
        "        self.output = nn.Linear(128, 1)\n",
        "        self.dropout = nn.Dropout(p=0.2)\n",
        "\n",
        "    def forward(self, X):\n",
        "        X = self.pool(self.bnorm(self.activation(self.conv1(X))))\n",
        "        X = self.pool(self.bnorm(self.activation(self.conv2(X))))\n",
        "        X = self.flatten(X)\n",
        "        X = self.dropout(self.activation(self.linear1(X)))\n",
        "        X = self.dropout(self.activation(self.linear2(X)))\n",
        "        X = self.output(X)\n",
        "        return X\n",
        "\n",
        "classificador = Classificador()\n",
        "criterion = nn.BCEWithLogitsLoss()\n",
        "optimizer = optim.Adam(classificador.parameters(), lr=1e-4)\n",
        "\n",
        "device = torch.device('cuda') if torch.cuda.is_available() else torch.device('cpu')\n",
        "classificador = classificador.to(device)\n",
        "\n",
        "train_losses = []\n",
        "val_losses = []\n",
        "train_accuracies = []\n",
        "val_accuracies = []\n",
        "num_epocas = 4\n",
        "for epoch in range(num_epocas):\n",
        "    classificador.train()\n",
        "    running_loss = 0.0\n",
        "    running_correct = 0\n",
        "    total = 0\n",
        "\n",
        "    for imgs, labels in tqdm(train_loader, desc=f\"🌱 Treinando Época {epoch+1}\"):\n",
        "        imgs, labels = imgs.to(device), labels.to(device).float().view(-1, 1)\n",
        "\n",
        "        optimizer.zero_grad()\n",
        "        outputs = classificador(imgs).squeeze(1)\n",
        "        loss = criterion(outputs, labels.squeeze(1))\n",
        "        loss.backward()\n",
        "        optimizer.step()\n",
        "\n",
        "        running_loss += loss.item() * imgs.size(0)\n",
        "\n",
        "        with torch.no_grad():\n",
        "            preds = torch.sigmoid(outputs)\n",
        "            preds = (preds > 0.5).float()\n",
        "            running_correct += (preds == labels.squeeze(1)).sum().item()\n",
        "            total += labels.size(0)\n",
        "\n",
        "    train_loss = running_loss / len(train_loader.dataset)\n",
        "    train_acc = running_correct / total\n",
        "    print(f\"✅ Época {epoch+1} - Loss Treino: {train_loss:.4f} | Acurácia Treino: {train_acc:.4f}\")\n",
        "\n",
        "    classificador.eval()\n",
        "    val_loss = 0.0\n",
        "    val_correct = 0\n",
        "    val_total = 0\n",
        "\n",
        "    with torch.no_grad():\n",
        "        for imgs, labels in val_loader:\n",
        "            imgs, labels = imgs.to(device), labels.to(device).float().view(-1, 1)\n",
        "\n",
        "            outputs = classificador(imgs).squeeze(1)\n",
        "            loss = criterion(outputs, labels.squeeze(1))\n",
        "            val_loss += loss.item() * imgs.size(0)\n",
        "\n",
        "            preds = torch.sigmoid(outputs)\n",
        "            preds = (preds > 0.5).float()\n",
        "            val_correct += (preds == labels.squeeze(1)).sum().item()\n",
        "            val_total += labels.size(0)\n",
        "\n",
        "    val_epoch_loss = val_loss / len(val_loader.dataset)\n",
        "    val_accuracy = val_correct / val_total\n",
        "    print(f\"🔍 Validação — Loss: {val_epoch_loss:.4f} | Acurácia: {val_accuracy:.4f}\")\n",
        "\n",
        "    train_losses.append(train_loss)\n",
        "    val_losses.append(val_epoch_loss)\n",
        "    train_accuracies.append(train_acc)\n",
        "    val_accuracies.append(val_accuracy)\n",
        "\n"
      ],
      "metadata": {
        "colab": {
          "base_uri": "https://localhost:8080/"
        },
        "id": "se7G8cD5owDa",
        "outputId": "e88996df-f76d-4f9a-feb4-cc644b43eb06"
      },
      "execution_count": null,
      "outputs": [
        {
          "output_type": "stream",
          "name": "stderr",
          "text": [
            "🌱 Treinando Época 1: 100%|██████████| 292/292 [00:29<00:00,  9.82it/s]\n"
          ]
        },
        {
          "output_type": "stream",
          "name": "stdout",
          "text": [
            "✅ Época 1 - Loss Treino: 0.1550 | Acurácia Treino: 0.9388\n",
            "🔍 Validação — Loss: 0.0672 | Acurácia: 0.9786\n"
          ]
        },
        {
          "output_type": "stream",
          "name": "stderr",
          "text": [
            "🌱 Treinando Época 2: 100%|██████████| 292/292 [00:29<00:00,  9.98it/s]\n"
          ]
        },
        {
          "output_type": "stream",
          "name": "stdout",
          "text": [
            "✅ Época 2 - Loss Treino: 0.0127 | Acurácia Treino: 0.9968\n",
            "🔍 Validação — Loss: 0.0485 | Acurácia: 0.9811\n"
          ]
        },
        {
          "output_type": "stream",
          "name": "stderr",
          "text": [
            "🌱 Treinando Época 3: 100%|██████████| 292/292 [00:28<00:00, 10.08it/s]\n"
          ]
        },
        {
          "output_type": "stream",
          "name": "stdout",
          "text": [
            "✅ Época 3 - Loss Treino: 0.0024 | Acurácia Treino: 0.9998\n",
            "🔍 Validação — Loss: 0.0782 | Acurácia: 0.9623\n"
          ]
        },
        {
          "output_type": "stream",
          "name": "stderr",
          "text": [
            "🌱 Treinando Época 4: 100%|██████████| 292/292 [00:28<00:00, 10.10it/s]\n"
          ]
        },
        {
          "output_type": "stream",
          "name": "stdout",
          "text": [
            "✅ Época 4 - Loss Treino: 0.0008 | Acurácia Treino: 1.0000\n",
            "🔍 Validação — Loss: 0.0162 | Acurácia: 0.9961\n"
          ]
        }
      ]
    },
    {
      "cell_type": "code",
      "source": [],
      "metadata": {
        "id": "fB8tcBXzKIU9"
      },
      "execution_count": null,
      "outputs": []
    },
    {
      "cell_type": "code",
      "source": [
        "class TrainTumorClass(nn.Module):\n",
        "  def __init__(self):\n",
        "    super.__init__(self, TrainTumorClass)\n",
        "    self.conv11 = nn.Conv2d(in_channels=1, out_channels=32, kernel_size=(3,3), padding=1)\n",
        "    self.conv2 = nn.Conv2d(32,64,(3,3),padding=1)\n",
        "    self.relu = nn.ReLU()\n",
        "    self.bnorm = nn.BatchNorm2d(64)\n",
        "    self.pool = nn.MaxPool2d(kernel_size=(2,2))\n",
        "    self.flatten = nn.Flatten()"
      ],
      "metadata": {
        "id": "H_zz45sPKlL5"
      },
      "execution_count": null,
      "outputs": []
    }
  ],
  "metadata": {
    "accelerator": "GPU",
    "colab": {
      "gpuType": "T4",
      "provenance": [],
      "mount_file_id": "1udWCI9UrIxlr0Ak8Pt3eNNfNpaqhjq8Z",
      "authorship_tag": "ABX9TyNFZCvRtdv8+kTyaF+79Onv"
    },
    "kernelspec": {
      "display_name": "Python 3",
      "name": "python3"
    },
    "language_info": {
      "name": "python"
    }
  },
  "nbformat": 4,
  "nbformat_minor": 0
}